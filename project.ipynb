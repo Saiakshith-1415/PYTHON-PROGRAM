{
  "nbformat": 4,
  "nbformat_minor": 0,
  "metadata": {
    "colab": {
      "provenance": []
    },
    "kernelspec": {
      "name": "python3",
      "display_name": "Python 3"
    },
    "language_info": {
      "name": "python"
    }
  },
  "cells": [
    {
      "cell_type": "markdown",
      "source": [
        "# SIMPLE CALCULATOR"
      ],
      "metadata": {
        "id": "Emz7YNGBScab"
      }
    },
    {
      "cell_type": "code",
      "execution_count": 8,
      "metadata": {
        "colab": {
          "base_uri": "https://localhost:8080/"
        },
        "id": "izf5oOH2SYui",
        "outputId": "126194e0-3dcf-4d7d-a439-3515a875976e"
      },
      "outputs": [
        {
          "output_type": "stream",
          "name": "stdout",
          "text": [
            "Select operation:\n",
            "1. Addition\n",
            "2. Subtraction\n",
            "3. Multiplication\n",
            "4. Division\n",
            "Enter choice (1/2/3/4): 1\n",
            "enter the first number:10\n",
            "enter the second number:10\n",
            "10.0 + 10.0 = 20.0\n",
            "Do you want to perform another calculation? (yes/no):yes\n",
            "Enter choice (1/2/3/4): 2\n",
            "enter the first number:10\n",
            "enter the second number:5\n",
            "10.0 - 5.0 = 5.0\n",
            "Do you want to perform another calculation? (yes/no):yes\n",
            "Enter choice (1/2/3/4): 3\n",
            "enter the first number:10\n",
            "enter the second number:10\n",
            "10.0 * 10.0 = 100.0\n",
            "Do you want to perform another calculation? (yes/no):yes\n",
            "Enter choice (1/2/3/4): 4\n",
            "enter the first number:20\n",
            "enter the second number:10\n",
            "20.0 / 10.0 = 2.0\n",
            "Do you want to perform another calculation? (yes/no):no\n",
            " thankyou for using calculator!\n"
          ]
        }
      ],
      "source": [
        "from pickle import NEXT_BUFFER\n",
        "def add(x,y):\n",
        "    return x+y\n",
        "def sub(x,y):\n",
        "    return x-y\n",
        "def multiply(x,y):\n",
        "    return x*y\n",
        "def divide(x,y):\n",
        "  if y != 0:\n",
        "    return x/y\n",
        "  else:\n",
        "    return \"Error: Division by zero\"\n",
        "print(\"Select operation:\")\n",
        "print(\"1. Addition\")\n",
        "print(\"2. Subtraction\")\n",
        "print(\"3. Multiplication\")\n",
        "print(\"4. Division\")\n",
        "while True:\n",
        "    choice = input(\"Enter choice (1/2/3/4): \")\n",
        "    if choice in['1','2','3','4']:\n",
        "        num1=float(input(\"enter the first number:\"))\n",
        "        num2=float(input(\"enter the second number:\"))\n",
        "    if choice == '1':\n",
        "        print(num1,\"+\",num2,\"=\",add(num1,num2))\n",
        "    elif choice == '2':\n",
        "        print(num1,\"-\",num2,\"=\",sub(num1,num2))\n",
        "    elif choice == '3':\n",
        "        print(num1,\"*\",num2,\"=\",multiply(num1,num2))\n",
        "    elif choice == '4':\n",
        "        print(num1,\"/\",num2,\"=\",divide(num1,num2))\n",
        "    next_calculation = input(\"Do you want to perform another calculation? (yes/no):\")\n",
        "    if next_calculation == \"no\":\n",
        "        print(\" thankyou for using calculator!\")\n",
        "        break\n",
        "else:\n",
        "  print(\"invalid number\")\n",
        ""
      ]
    },
    {
      "cell_type": "code",
      "source": [],
      "metadata": {
        "id": "10zeWUeyZGh6"
      },
      "execution_count": null,
      "outputs": []
    }
  ]
}