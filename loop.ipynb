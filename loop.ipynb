{
  "nbformat": 4,
  "nbformat_minor": 0,
  "metadata": {
    "colab": {
      "provenance": []
    },
    "kernelspec": {
      "name": "python3",
      "display_name": "Python 3"
    },
    "language_info": {
      "name": "python"
    }
  },
  "cells": [
    {
      "cell_type": "code",
      "execution_count": null,
      "metadata": {
        "colab": {
          "base_uri": "https://localhost:8080/"
        },
        "id": "2TrAotpFoq_P",
        "outputId": "b9e2cbc4-6238-4999-947b-f5a7ea3dd961"
      },
      "outputs": [
        {
          "output_type": "stream",
          "name": "stdout",
          "text": [
            "range(0, 8)\n",
            "[0, 1, 2, 3, 4, 5, 6, 7]\n"
          ]
        }
      ],
      "source": [
        "x=range(8)\n",
        "print(x)\n",
        "print(list(x))"
      ]
    },
    {
      "cell_type": "code",
      "source": [
        "x=range(2,20,3)\n",
        "print(x)\n",
        "print(list(x))"
      ],
      "metadata": {
        "colab": {
          "base_uri": "https://localhost:8080/"
        },
        "id": "PkSZpV4Qo0mz",
        "outputId": "c7cb2997-e8af-45b9-b57c-16c1b491568d"
      },
      "execution_count": null,
      "outputs": [
        {
          "output_type": "stream",
          "name": "stdout",
          "text": [
            "range(2, 20, 3)\n",
            "[2, 5, 8, 11, 14, 17]\n"
          ]
        }
      ]
    },
    {
      "cell_type": "code",
      "source": [
        "x=range(4,8)\n",
        "print(x)\n",
        "print(list(x))"
      ],
      "metadata": {
        "colab": {
          "base_uri": "https://localhost:8080/"
        },
        "id": "b3EcNmCTo6ua",
        "outputId": "39d11dc3-6d11-41d7-d94a-b3fb08f2152e"
      },
      "execution_count": null,
      "outputs": [
        {
          "output_type": "stream",
          "name": "stdout",
          "text": [
            "range(4, 8)\n",
            "[4, 5, 6, 7]\n"
          ]
        }
      ]
    },
    {
      "cell_type": "code",
      "source": [
        "x=range(2,20,3)\n",
        "for i in x:\n",
        "   print(i)"
      ],
      "metadata": {
        "colab": {
          "base_uri": "https://localhost:8080/"
        },
        "id": "8kCcZtSfo91Z",
        "outputId": "77c574c6-f1a5-4377-e636-812d87144cde"
      },
      "execution_count": null,
      "outputs": [
        {
          "output_type": "stream",
          "name": "stdout",
          "text": [
            "2\n",
            "5\n",
            "8\n",
            "11\n",
            "14\n",
            "17\n"
          ]
        }
      ]
    },
    {
      "cell_type": "code",
      "source": [
        "s=\"KGRCET\"\n",
        "for i in s:\n",
        "  print(i,end=\" \")"
      ],
      "metadata": {
        "colab": {
          "base_uri": "https://localhost:8080/"
        },
        "id": "Vte-QDThpNcQ",
        "outputId": "360a9e03-b43f-4e10-af4c-1747b992a69b"
      },
      "execution_count": null,
      "outputs": [
        {
          "output_type": "stream",
          "name": "stdout",
          "text": [
            "K G R C E T "
          ]
        }
      ]
    },
    {
      "cell_type": "code",
      "source": [
        "list_1=[9,5,7,2,5,3,8,14,6,11]\n",
        "for i in range(0,len(list_1),2):\n",
        "  print(list_1[i],end=\" \")"
      ],
      "metadata": {
        "colab": {
          "base_uri": "https://localhost:8080/"
        },
        "id": "1H4Dv3VGqJuc",
        "outputId": "1df0ffec-3add-4490-971e-7f9d45fbb3e1"
      },
      "execution_count": null,
      "outputs": [
        {
          "output_type": "stream",
          "name": "stdout",
          "text": [
            "9 7 5 8 6 "
          ]
        }
      ]
    },
    {
      "cell_type": "code",
      "source": [
        "list_1=[9,5,7,2,5,3,8,14,6,11]\n",
        "for i in range(1,len(list_1),2):\n",
        "  print(list_1[i],end=\" \")"
      ],
      "metadata": {
        "colab": {
          "base_uri": "https://localhost:8080/"
        },
        "id": "Ie8ipsGFqaMl",
        "outputId": "35e1b810-06a8-429f-dc3e-c3ad599eed7c"
      },
      "execution_count": null,
      "outputs": [
        {
          "output_type": "stream",
          "name": "stdout",
          "text": [
            "5 2 3 14 11 "
          ]
        }
      ]
    },
    {
      "cell_type": "code",
      "source": [
        "step=int(input(\"Enter the step value:\"))\n",
        "list_1=[9,5,7,2,5,3,8,14,6,11]\n",
        "for i in range(0,len(list_1),step):\n",
        "  print(list_1[i],end=\" \")"
      ],
      "metadata": {
        "colab": {
          "base_uri": "https://localhost:8080/"
        },
        "id": "nQF0p5PdqgL1",
        "outputId": "3111720b-9489-41a3-f54f-bf1b80d9bf65"
      },
      "execution_count": null,
      "outputs": [
        {
          "output_type": "stream",
          "name": "stdout",
          "text": [
            "Enter the step value:3\n",
            "9 2 8 11 "
          ]
        }
      ]
    },
    {
      "cell_type": "code",
      "source": [
        "i=1\n",
        "while i<8:\n",
        "    print(i,end=\" \")\n",
        "    i+=1"
      ],
      "metadata": {
        "colab": {
          "base_uri": "https://localhost:8080/"
        },
        "id": "54EnXGGnk3fA",
        "outputId": "db5b383f-74c2-4581-ecab-774c6b45de61"
      },
      "execution_count": 1,
      "outputs": [
        {
          "output_type": "stream",
          "name": "stdout",
          "text": [
            "1 2 3 4 5 6 7 "
          ]
        }
      ]
    },
    {
      "cell_type": "code",
      "source": [
        "i=1\n",
        "while i<8:\n",
        "    print(i)\n",
        "    i+=1\n"
      ],
      "metadata": {
        "colab": {
          "base_uri": "https://localhost:8080/"
        },
        "id": "lb2bVN5wk_Q9",
        "outputId": "e2177d31-ba41-47c0-ce06-369276a6877c"
      },
      "execution_count": 2,
      "outputs": [
        {
          "output_type": "stream",
          "name": "stdout",
          "text": [
            "1\n",
            "2\n",
            "3\n",
            "4\n",
            "5\n",
            "6\n",
            "7\n"
          ]
        }
      ]
    },
    {
      "cell_type": "code",
      "source": [
        "i=1\n",
        "while i<8:\n",
        "    print(i,end=\" \")\n",
        "    if i==4:\n",
        "      break\n",
        "    i+=1\n"
      ],
      "metadata": {
        "colab": {
          "base_uri": "https://localhost:8080/"
        },
        "id": "SdprJpHylCL7",
        "outputId": "38a03e82-efad-4d3a-a194-ddd9f2530989"
      },
      "execution_count": 3,
      "outputs": [
        {
          "output_type": "stream",
          "name": "stdout",
          "text": [
            "1 2 3 4 "
          ]
        }
      ]
    },
    {
      "cell_type": "code",
      "source": [
        "i=8\n",
        "while i>0:\n",
        "  print(i)\n",
        "  if i==3:\n",
        "    break\n",
        "  i -= 1"
      ],
      "metadata": {
        "colab": {
          "base_uri": "https://localhost:8080/"
        },
        "id": "idRymp6EliZp",
        "outputId": "c1cfb1d8-ec43-4024-954a-9c5bc59bbfe6"
      },
      "execution_count": 6,
      "outputs": [
        {
          "output_type": "stream",
          "name": "stdout",
          "text": [
            "8\n",
            "7\n",
            "6\n",
            "5\n",
            "4\n",
            "3\n"
          ]
        }
      ]
    },
    {
      "cell_type": "code",
      "source": [
        "for number in [1,2,3,5,6,10,11,12]:\n",
        "    if number==6:\n",
        "        break\n",
        "    print(number,end=\" \")\n",
        "print(\"BYE\")"
      ],
      "metadata": {
        "colab": {
          "base_uri": "https://localhost:8080/"
        },
        "id": "SqMnGcIrp71F",
        "outputId": "1819626a-53ed-4ec8-9be6-350b407496b5"
      },
      "execution_count": 1,
      "outputs": [
        {
          "output_type": "stream",
          "name": "stdout",
          "text": [
            "1 2 3 5 BYE\n"
          ]
        }
      ]
    },
    {
      "cell_type": "code",
      "source": [
        "for number in [1,2,3,5,6,10,11,12]:\n",
        "    if number==6:\n",
        "        continue\n",
        "    print(number,end=\" \")\n",
        "print(\"BYE\")"
      ],
      "metadata": {
        "colab": {
          "base_uri": "https://localhost:8080/"
        },
        "id": "ya9BXlzZrUca",
        "outputId": "8ac2ce44-8d6a-4d4b-979b-a594a94cfc45"
      },
      "execution_count": 2,
      "outputs": [
        {
          "output_type": "stream",
          "name": "stdout",
          "text": [
            "1 2 3 5 10 11 12 BYE\n"
          ]
        }
      ]
    }
  ]
}